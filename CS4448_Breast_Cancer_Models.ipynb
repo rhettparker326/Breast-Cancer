{
 "cells": [
  {
   "cell_type": "markdown",
   "id": "638c1e97",
   "metadata": {},
   "source": [
    "# CS4448 — Breast Cancer Classification (Naive Bayes and Baselines)\n",
    "**Includes:** data load, shapes, train/test split, model training, predictions, score, confusion matrix, classification report, visualization, K-Fold CV, and multiple-model comparison."
   ]
  },
  {
   "cell_type": "code",
   "execution_count": null,
   "id": "10358439",
   "metadata": {},
   "outputs": [],
   "source": [
    "# Imports\n",
    "import numpy as np\n",
    "import matplotlib.pyplot as plt\n",
    "\n",
    "from sklearn.datasets import load_breast_cancer\n",
    "from sklearn.model_selection import train_test_split, KFold, cross_val_score\n",
    "from sklearn.naive_bayes import GaussianNB\n",
    "from sklearn.metrics import confusion_matrix, classification_report\n",
    "from sklearn.neighbors import KNeighborsClassifier\n",
    "from sklearn.linear_model import LogisticRegression\n",
    "from sklearn.svm import SVC\n",
    "from sklearn.metrics import ConfusionMatrixDisplay\n",
    "\n",
    "# For reproducibility\n",
    "RANDOM_STATE = 11\n"
   ]
  },
  {
   "cell_type": "markdown",
   "id": "201e0c33",
   "metadata": {},
   "source": [
    "## Loading the Dataset"
   ]
  },
  {
   "cell_type": "code",
   "execution_count": null,
   "id": "6dc69fba",
   "metadata": {},
   "outputs": [],
   "source": [
    "breast_cancer = load_breast_cancer()\n",
    "X, y = breast_cancer.data, breast_cancer.target\n",
    "print('Dataset loaded: Breast Cancer Wisconsin (Diagnostic)')\n",
    "print('Feature names (first 5):', breast_cancer.feature_names[:5])\n",
    "print('Target names:', breast_cancer.target_names)"
   ]
  },
  {
   "cell_type": "markdown",
   "id": "84adef68",
   "metadata": {},
   "source": [
    "## Checking the Sample and Target Sizes"
   ]
  },
  {
   "cell_type": "code",
   "execution_count": null,
   "id": "b79cb944",
   "metadata": {},
   "outputs": [],
   "source": [
    "print('X shape:', X.shape)  # (n_samples, n_features)\n",
    "print('y shape:', y.shape)\n",
    "unique, counts = np.unique(y, return_counts=True)\n",
    "print('Class distribution:', dict(zip(unique, counts)))"
   ]
  },
  {
   "cell_type": "markdown",
   "id": "ae225185",
   "metadata": {},
   "source": [
    "## Splitting the Data for Training and Testing"
   ]
  },
  {
   "cell_type": "code",
   "execution_count": null,
   "id": "f72c3689",
   "metadata": {},
   "outputs": [],
   "source": [
    "X_train, X_test, y_train, y_test = train_test_split(\n",
    "    X, y, test_size=0.25, random_state=RANDOM_STATE, stratify=y)\n",
    "print('Training and Testing Set Sizes')\n",
    "print('X_train:', X_train.shape, 'y_train:', y_train.shape)\n",
    "print('X_test:', X_test.shape, 'y_test:', y_test.shape)"
   ]
  },
  {
   "cell_type": "markdown",
   "id": "4d68bf2e",
   "metadata": {},
   "source": [
    "## Creating the Model (GaussianNB)"
   ]
  },
  {
   "cell_type": "code",
   "execution_count": null,
   "id": "78166111",
   "metadata": {},
   "outputs": [],
   "source": [
    "nb = GaussianNB()\n",
    "nb"
   ]
  },
  {
   "cell_type": "markdown",
   "id": "90c85307",
   "metadata": {},
   "source": [
    "## Training the Model"
   ]
  },
  {
   "cell_type": "code",
   "execution_count": null,
   "id": "f3cd90d9",
   "metadata": {},
   "outputs": [],
   "source": [
    "nb.fit(X_train, y_train)"
   ]
  },
  {
   "cell_type": "markdown",
   "id": "e7e13263",
   "metadata": {},
   "source": [
    "## Predicting"
   ]
  },
  {
   "cell_type": "code",
   "execution_count": null,
   "id": "ddb09bd3",
   "metadata": {},
   "outputs": [],
   "source": [
    "y_pred = nb.predict(X_test)\n",
    "print('First 10 predictions:', y_pred[:10])"
   ]
  },
  {
   "cell_type": "markdown",
   "id": "73f8cfe4",
   "metadata": {},
   "source": [
    "## Estimator Method `score`"
   ]
  },
  {
   "cell_type": "code",
   "execution_count": null,
   "id": "ea4b40e6",
   "metadata": {},
   "outputs": [],
   "source": [
    "test_score = nb.score(X_test, y_test)\n",
    "train_score = nb.score(X_train, y_train)\n",
    "print(f'Train accuracy: {train_score:.4f}')\n",
    "print(f'Test  accuracy: {test_score:.4f}')"
   ]
  },
  {
   "cell_type": "markdown",
   "id": "2ee1db1d",
   "metadata": {},
   "source": [
    "## Confusion Matrix"
   ]
  },
  {
   "cell_type": "code",
   "execution_count": null,
   "id": "51a55921",
   "metadata": {},
   "outputs": [],
   "source": [
    "cm = confusion_matrix(y_test, y_pred, labels=[0,1])\n",
    "print('Confusion Matrix (labels 0,1):\\n', cm)"
   ]
  },
  {
   "cell_type": "markdown",
   "id": "829af058",
   "metadata": {},
   "source": [
    "## Classification Report"
   ]
  },
  {
   "cell_type": "code",
   "execution_count": null,
   "id": "71ff91d3",
   "metadata": {},
   "outputs": [],
   "source": [
    "print(classification_report(y_test, y_pred, target_names=breast_cancer.target_names))"
   ]
  },
  {
   "cell_type": "markdown",
   "id": "d58f0b7b",
   "metadata": {},
   "source": [
    "## Visualizing the Confusion Matrix"
   ]
  },
  {
   "cell_type": "code",
   "execution_count": null,
   "id": "6577d427",
   "metadata": {},
   "outputs": [],
   "source": [
    "disp = ConfusionMatrixDisplay(confusion_matrix=cm, display_labels=breast_cancer.target_names)\n",
    "fig, ax = plt.subplots()\n",
    "disp.plot(ax=ax)\n",
    "plt.title('GaussianNB Confusion Matrix')\n",
    "plt.show()"
   ]
  },
  {
   "cell_type": "markdown",
   "id": "c6106004",
   "metadata": {},
   "source": [
    "## K-Fold Cross-Validation"
   ]
  },
  {
   "cell_type": "code",
   "execution_count": null,
   "id": "cd7b352b",
   "metadata": {},
   "outputs": [],
   "source": [
    "kfold = KFold(n_splits=10, random_state=RANDOM_STATE, shuffle=True)\n",
    "scores = cross_val_score(estimator=nb, X=breast_cancer.data, y=breast_cancer.target, cv=kfold)\n",
    "print('CV scores:', scores)\n",
    "print(f'CV mean: {scores.mean():.4f} ± {scores.std():.4f}')"
   ]
  },
  {
   "cell_type": "markdown",
   "id": "4dee40e2",
   "metadata": {},
   "source": [
    "## Running Multiple Models to Find the Best One"
   ]
  },
  {
   "cell_type": "code",
   "execution_count": null,
   "id": "0a48240d",
   "metadata": {},
   "outputs": [],
   "source": [
    "estimators = {\n",
    "    'GaussianNB': GaussianNB(),\n",
    "    'KNeighborsClassifier': KNeighborsClassifier(),\n",
    "    'LogisticRegression': LogisticRegression(solver='lbfgs', multi_class='ovr', max_iter=10000),\n",
    "    'SVC': SVC(gamma='scale')\n",
    "}\n",
    "\n",
    "results = {}\n",
    "for name, est in estimators.items():\n",
    "    cv_scores = cross_val_score(estimator=est, X=breast_cancer.data, y=breast_cancer.target, cv=kfold)\n",
    "    results[name] = (cv_scores.mean(), cv_scores.std())\n",
    "    print(f'{name:>20}: mean={cv_scores.mean():.4f} ± {cv_scores.std():.4f}')\n",
    "\n",
    "best_name = max(results, key=lambda k: results[k][0])\n",
    "print('\\nBest estimator by CV mean:', best_name, '→', f'{results[best_name][0]:.4f} ± {results[best_name][1]:.4f}')"
   ]
  }
 ],
 "metadata": {},
 "nbformat": 4,
 "nbformat_minor": 5
}
